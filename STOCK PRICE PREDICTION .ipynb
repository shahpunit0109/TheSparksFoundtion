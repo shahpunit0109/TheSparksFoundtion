{
 "cells": [
  {
   "cell_type": "code",
   "execution_count": null,
   "metadata": {},
   "outputs": [],
   "source": [
    "!pip install pandas numpy matplotlib seaborn keras nltk scikit-learn"
   ]
  },
  {
   "cell_type": "code",
   "execution_count": null,
   "metadata": {},
   "outputs": [],
   "source": [
    "!pip install tensorflow"
   ]
  },
  {
   "cell_type": "code",
   "execution_count": null,
   "metadata": {},
   "outputs": [],
   "source": [
    "nltk.download('vader_lexicon')"
   ]
  },
  {
   "cell_type": "markdown",
   "metadata": {},
   "source": [
    "### Importing Required Libraries"
   ]
  },
  {
   "cell_type": "code",
   "execution_count": null,
   "metadata": {
    "id": "ja-IqkkXDkjp"
   },
   "outputs": [],
   "source": [
    "import math\n",
    "import pandas as pd\n",
    "import numpy as np\n",
    "import matplotlib.pyplot as plt\n",
    "import seaborn as sns\n",
    "import unicodedata\n",
    "from keras.models import Sequential\n",
    "from keras.layers import Dense, LSTM, Dropout, Dense, Activation\n",
    "import nltk\n",
    "from nltk.classify import NaiveBayesClassifier\n",
    "from nltk.corpus import subjectivity\n",
    "from nltk.sentiment import SentimentAnalyzer\n",
    "from nltk.sentiment.util import *\n",
    "from sklearn import preprocessing, metrics\n",
    "from sklearn.preprocessing import MinMaxScaler\n",
    "from nltk.sentiment.vader import SentimentIntensityAnalyzer"
   ]
  },
  {
   "cell_type": "markdown",
   "metadata": {},
   "source": [
    "### Reading the data and doing the EDA"
   ]
  },
  {
   "cell_type": "code",
   "execution_count": null,
   "metadata": {
    "id": "CnHm2hOWDkjr"
   },
   "outputs": [],
   "source": [
    "stock_price = pd.read_csv('RELIANCE.csv')\n",
    "news_headline = pd.read_csv('india-news-headlines.csv')"
   ]
  },
  {
   "cell_type": "code",
   "execution_count": null,
   "metadata": {
    "id": "03MwKd4wDkjs"
   },
   "outputs": [],
   "source": [
    "stock_price = stock_price.drop(['Trades','Deliverable Volume','%Deliverble','VWAP','Series','Symbol','Prev Close','Turnover'],axis = 1)"
   ]
  },
  {
   "cell_type": "code",
   "execution_count": null,
   "metadata": {
    "colab": {
     "base_uri": "https://localhost:8080/",
     "height": 204
    },
    "id": "i5fs2QXjDkjs",
    "outputId": "f691892c-5b39-44d9-a5db-d2730d79a1db"
   },
   "outputs": [],
   "source": [
    "stock_price.head()"
   ]
  },
  {
   "cell_type": "code",
   "execution_count": null,
   "metadata": {
    "colab": {
     "base_uri": "https://localhost:8080/",
     "height": 204
    },
    "id": "Bjh2Af-JDkju",
    "outputId": "6e35ddba-0a6e-4cc2-ca59-36ca5c1abfba"
   },
   "outputs": [],
   "source": [
    "news_headline.head()"
   ]
  },
  {
   "cell_type": "code",
   "execution_count": null,
   "metadata": {
    "colab": {
     "base_uri": "https://localhost:8080/"
    },
    "id": "5C91xzdRDkjx",
    "outputId": "04dba0bd-f37a-4713-8a75-ae5ad4d80c66"
   },
   "outputs": [],
   "source": [
    "stock_price.isna().any(), news_headline.isna().any()"
   ]
  },
  {
   "cell_type": "code",
   "execution_count": null,
   "metadata": {
    "colab": {
     "base_uri": "https://localhost:8080/",
     "height": 450
    },
    "id": "zpJUBXO5Dkjy",
    "outputId": "2605a04e-4b37-4f13-e5dc-e1da913484e2"
   },
   "outputs": [],
   "source": [
    "stock_price['Date'] = pd.to_datetime(stock_price['Date']).dt.normalize()\n",
    "stock_price.set_index('Date', inplace= True)\n",
    "stock_price = stock_price.sort_index(ascending=True, axis=0)\n",
    "stock_price"
   ]
  },
  {
   "cell_type": "code",
   "execution_count": null,
   "metadata": {
    "colab": {
     "base_uri": "https://localhost:8080/",
     "height": 450
    },
    "id": "cvZsmSXyIwpF",
    "outputId": "c854f9ea-9cee-4ca7-e296-1e0c3b29ae44"
   },
   "outputs": [],
   "source": [
    "news_headline = news_headline.drop_duplicates()\n",
    "news_headline['publish_date'] = news_headline['publish_date'].astype(str)\n",
    "news_headline['publish_date'] = news_headline['publish_date'].apply(lambda x: x[0:4]+'-'+x[4:6]+'-'+x[6:8])\n",
    "news_headline['publish_date'] = pd.to_datetime(news_headline['publish_date']).dt.normalize()\n",
    "news_headline = news_headline.filter(['publish_date', 'headline_text'])\n",
    "news_headline = news_headline.groupby(['publish_date'])['headline_text'].apply(lambda x: ','.join(x)).reset_index()\n",
    "news_headline.set_index('publish_date', inplace= True)\n",
    "news_headline = news_headline.sort_index(ascending=True, axis=0)\n",
    "news_headline"
   ]
  },
  {
   "cell_type": "code",
   "execution_count": null,
   "metadata": {
    "colab": {
     "base_uri": "https://localhost:8080/",
     "height": 419
    },
    "id": "Iuz0VQZxDkj1",
    "outputId": "d5a0d46c-d73c-4a76-813a-bc27f155acad"
   },
   "outputs": [],
   "source": [
    "stock_data = pd.concat([stock_price, news_headline], axis=1)\n",
    "stock_data.dropna(axis=0, inplace=True)\n",
    "stock_data"
   ]
  },
  {
   "cell_type": "code",
   "execution_count": null,
   "metadata": {
    "colab": {
     "base_uri": "https://localhost:8080/",
     "height": 307
    },
    "id": "u8vxtI7mDkj2",
    "outputId": "4a2e5070-5add-4427-e622-5b88278b8651"
   },
   "outputs": [],
   "source": [
    "stock_data['compound'] = ''\n",
    "stock_data['negative'] = ''\n",
    "stock_data['neutral'] = ''\n",
    "stock_data['positive'] = ''\n",
    "stock_data.head()"
   ]
  },
  {
   "cell_type": "markdown",
   "metadata": {},
   "source": [
    "### Doing the sentimental analysis and calculating compound,positive,neutral,negative"
   ]
  },
  {
   "cell_type": "code",
   "execution_count": null,
   "metadata": {
    "colab": {
     "base_uri": "https://localhost:8080/",
     "height": 307
    },
    "id": "rXmmu6cuDkj6",
    "outputId": "730037fc-1f22-4e7e-a635-d54c15a17927"
   },
   "outputs": [],
   "source": [
    "sid = SentimentIntensityAnalyzer()\n",
    "stock_data['compound'] = stock_data['headline_text'].apply(lambda x: sid.polarity_scores(x)['compound'])\n",
    "stock_data['negative'] = stock_data['headline_text'].apply(lambda x: sid.polarity_scores(x)['neg'])\n",
    "stock_data['neutral'] = stock_data['headline_text'].apply(lambda x: sid.polarity_scores(x)['neu'])\n",
    "stock_data['positive'] = stock_data['headline_text'].apply(lambda x: sid.polarity_scores(x)['pos'])\n",
    "stock_data.head()"
   ]
  },
  {
   "cell_type": "code",
   "execution_count": null,
   "metadata": {
    "colab": {
     "base_uri": "https://localhost:8080/",
     "height": 419
    },
    "id": "UsTBiyTdDkj6",
    "outputId": "a647bcd9-3ed1-4811-ccb9-5faa974d9173"
   },
   "outputs": [],
   "source": [
    "stock_data"
   ]
  },
  {
   "cell_type": "code",
   "execution_count": null,
   "metadata": {
    "colab": {
     "base_uri": "https://localhost:8080/",
     "height": 204
    },
    "id": "x9iWDNb-YN36",
    "outputId": "aea10188-9049-4f8f-aae7-2bc08bb042ed"
   },
   "outputs": [],
   "source": [
    "stock_data = stock_data[['Close', 'compound', 'negative', 'neutral', 'positive', 'Open', 'High', 'Low', 'Volume']]\n",
    "stock_data.head()"
   ]
  },
  {
   "cell_type": "code",
   "execution_count": null,
   "metadata": {
    "id": "TUkNDjuuYN7X"
   },
   "outputs": [],
   "source": [
    "stock_data.to_csv('stock_data.csv')"
   ]
  },
  {
   "cell_type": "code",
   "execution_count": null,
   "metadata": {
    "colab": {
     "base_uri": "https://localhost:8080/",
     "height": 235
    },
    "id": "SaHpAggmYN_R",
    "outputId": "adf5dfcb-39b4-47d0-e29d-f66cdaa10f9e"
   },
   "outputs": [],
   "source": [
    "stock_data = pd.read_csv('stock_data.csv', index_col = False)\n",
    "stock_data.rename(columns={'Unnamed: 0':'Date'}, inplace = True)\n",
    "stock_data.set_index('Date', inplace=True)\n",
    "stock_data.head()"
   ]
  },
  {
   "cell_type": "markdown",
   "metadata": {},
   "source": [
    "### Plotting the close price graph"
   ]
  },
  {
   "cell_type": "code",
   "execution_count": null,
   "metadata": {
    "colab": {
     "base_uri": "https://localhost:8080/",
     "height": 638
    },
    "id": "s4Pp9GqjYu-I",
    "outputId": "d7c543ed-15f5-4c63-fe61-365de07d5d3c"
   },
   "outputs": [],
   "source": [
    "plt.figure(figsize=(16,10))\n",
    "stock_data['Close'].plot()\n",
    "plt.title(\"Close Price\")\n",
    "plt.xlabel('Date')\n",
    "plt.ylabel('Close Price (Rs.)')"
   ]
  },
  {
   "cell_type": "markdown",
   "metadata": {},
   "source": [
    "### Distributing the data for training and testing"
   ]
  },
  {
   "cell_type": "code",
   "execution_count": null,
   "metadata": {
    "colab": {
     "base_uri": "https://localhost:8080/"
    },
    "id": "2m3v363DYu6s",
    "outputId": "39622cd3-4b7f-47ce-f9a5-d61f9260f38e"
   },
   "outputs": [],
   "source": [
    "percentage_of_data = 1.0\n",
    "data_to_use = int(percentage_of_data*(len(stock_data)-1))\n",
    "train_end = int(data_to_use*0.85)\n",
    "total_data = len(stock_data)\n",
    "start = total_data - data_to_use\n",
    "print(\"Number of records in Training Data:\", train_end)\n",
    "print(\"Number of records in Test Data:\", total_data - train_end)"
   ]
  },
  {
   "cell_type": "code",
   "execution_count": null,
   "metadata": {
    "colab": {
     "base_uri": "https://localhost:8080/"
    },
    "id": "Thn13CRNYuyV",
    "outputId": "e924da86-bbdd-447e-9163-d60849113f6b"
   },
   "outputs": [],
   "source": [
    "steps_to_predict = 1\n",
    "close_price = stock_data.iloc[start:total_data,0] \n",
    "compound = stock_data.iloc[start:total_data,1]\n",
    "negative = stock_data.iloc[start:total_data,2] \n",
    "neutral = stock_data.iloc[start:total_data,3] \n",
    "positive = stock_data.iloc[start:total_data,4]\n",
    "open_price = stock_data.iloc[start:total_data,5] \n",
    "high = stock_data.iloc[start:total_data,6] \n",
    "low = stock_data.iloc[start:total_data,7] \n",
    "volume = stock_data.iloc[start:total_data,8] \n",
    "print(\"Close Price:\")\n",
    "close_price"
   ]
  },
  {
   "cell_type": "code",
   "execution_count": null,
   "metadata": {
    "colab": {
     "base_uri": "https://localhost:8080/",
     "height": 390
    },
    "id": "1RIjuq7lDkj7",
    "outputId": "f33239f3-5233-4c27-a85b-24e167a16f08"
   },
   "outputs": [],
   "source": [
    "close_price_shifted = close_price.shift(-1) \n",
    "compound_shifted = compound.shift(-1) \n",
    "data = pd.concat([close_price, close_price_shifted, compound, compound_shifted, volume, open_price, high, low], axis=1)\n",
    "data.columns = ['close_price', 'close_price_shifted', 'compound', 'compound_shifted','volume', 'open_price', 'high', 'low']\n",
    "data = data.dropna()    \n",
    "data.head(10)"
   ]
  },
  {
   "cell_type": "markdown",
   "metadata": {},
   "source": [
    "### Setting the target variable"
   ]
  },
  {
   "cell_type": "code",
   "execution_count": null,
   "metadata": {
    "colab": {
     "base_uri": "https://localhost:8080/"
    },
    "id": "l7w9cwtUatqw",
    "outputId": "03c76947-426d-4b0f-81e3-c1c9c7aa62c3"
   },
   "outputs": [],
   "source": [
    "y = data['close_price_shifted']\n",
    "y"
   ]
  },
  {
   "cell_type": "code",
   "execution_count": null,
   "metadata": {
    "colab": {
     "base_uri": "https://localhost:8080/",
     "height": 450
    },
    "id": "EclqK9VAatlO",
    "outputId": "a6fc66ba-8bc2-4b0f-f0d8-9b966b50ea72"
   },
   "outputs": [],
   "source": [
    "cols = ['close_price', 'compound', 'compound_shifted', 'volume', 'open_price', 'high', 'low']\n",
    "x = data[cols]\n",
    "x"
   ]
  },
  {
   "cell_type": "code",
   "execution_count": null,
   "metadata": {
    "colab": {
     "base_uri": "https://localhost:8080/"
    },
    "id": "2lTtioLAath8",
    "outputId": "f553aff3-004d-404c-89c5-5d99d246b591"
   },
   "outputs": [],
   "source": [
    "scaler_x = preprocessing.MinMaxScaler (feature_range=(-1, 1))\n",
    "x = np.array(x).reshape((len(x) ,len(cols)))\n",
    "x = scaler_x.fit_transform(x)\n",
    "scaler_y = preprocessing.MinMaxScaler (feature_range=(-1, 1))\n",
    "y = np.array (y).reshape ((len( y), 1))\n",
    "y = scaler_y.fit_transform (y)\n",
    "x[0:5], y"
   ]
  },
  {
   "cell_type": "markdown",
   "metadata": {},
   "source": [
    "### Splitting the data into train and test data"
   ]
  },
  {
   "cell_type": "code",
   "execution_count": null,
   "metadata": {
    "colab": {
     "base_uri": "https://localhost:8080/"
    },
    "id": "sx6NSCjqatZV",
    "outputId": "46dd12fb-6eb3-4305-f3b4-469bfb987146"
   },
   "outputs": [],
   "source": [
    "X_train = x[0 : train_end,]\n",
    "X_test = x[train_end+1 : len(x),]    \n",
    "y_train = y[0 : train_end] \n",
    "y_test = y[train_end+1 : len(y)]  \n",
    "print('Number of rows and columns in the Training set X:', X_train.shape, 'and y:', y_train.shape)\n",
    "print('Number of rows and columns in the Test set X:', X_test.shape, 'and y:', y_test.shape)"
   ]
  },
  {
   "cell_type": "code",
   "execution_count": null,
   "metadata": {
    "colab": {
     "base_uri": "https://localhost:8080/"
    },
    "id": "0HqKF1sLb25c",
    "outputId": "02df1bac-dc4d-435f-bd01-10837f5df01f"
   },
   "outputs": [],
   "source": [
    "X_train = X_train.reshape (X_train.shape + (1,)) \n",
    "X_test = X_test.reshape(X_test.shape + (1,))\n",
    "print('Shape of Training set X:', X_train.shape)\n",
    "print('Shape of Test set X:', X_test.shape)"
   ]
  },
  {
   "cell_type": "markdown",
   "metadata": {},
   "source": [
    "### Creating the LSTM model for prediciton of stock prices"
   ]
  },
  {
   "cell_type": "code",
   "execution_count": null,
   "metadata": {
    "colab": {
     "base_uri": "https://localhost:8080/"
    },
    "id": "lPC2yBO5b23i",
    "outputId": "5b9ee275-3e06-4e69-b72d-399c1de72bb6"
   },
   "outputs": [],
   "source": [
    "np.random.seed(2016)\n",
    "model=Sequential()\n",
    "model.add(LSTM(100,return_sequences=True,activation='tanh',input_shape=(len(cols),1)))\n",
    "model.add(Dropout(0.1))\n",
    "model.add(LSTM(100,return_sequences=True,activation='tanh'))\n",
    "model.add(Dropout(0.1))\n",
    "model.add(LSTM(100,activation='tanh'))\n",
    "model.add(Dropout(0.1))\n",
    "model.add(Dense(1))\n",
    "model.summary()"
   ]
  },
  {
   "cell_type": "code",
   "execution_count": null,
   "metadata": {
    "colab": {
     "base_uri": "https://localhost:8080/"
    },
    "id": "q2XgFDXBb2w3",
    "outputId": "2df89e6f-21a9-461a-f068-75a30bbf11b4"
   },
   "outputs": [],
   "source": [
    "model.compile(loss='mse' , optimizer='adam')\n",
    "model.fit(X_train, y_train, validation_split=0.2, epochs=10, batch_size=8, verbose=1)"
   ]
  },
  {
   "cell_type": "markdown",
   "metadata": {},
   "source": [
    "### Saving model "
   ]
  },
  {
   "cell_type": "code",
   "execution_count": null,
   "metadata": {
    "colab": {
     "base_uri": "https://localhost:8080/"
    },
    "id": "W06rWw4Wb2od",
    "outputId": "a78ca9ec-1f1c-4298-80f4-057bc0901566"
   },
   "outputs": [],
   "source": [
    "model_json = model.to_json()\n",
    "with open('model.json', 'w') as json_file:\n",
    "    json_file.write(model_json)\n",
    "model.save_weights('model.h5')\n",
    "print('Model is saved to the disk')"
   ]
  },
  {
   "cell_type": "code",
   "execution_count": null,
   "metadata": {},
   "outputs": [],
   "source": [
    "X_test[0:5]"
   ]
  },
  {
   "cell_type": "markdown",
   "metadata": {},
   "source": [
    "### Prediciting the stock prices by putting data in trained model"
   ]
  },
  {
   "cell_type": "code",
   "execution_count": null,
   "metadata": {
    "colab": {
     "base_uri": "https://localhost:8080/"
    },
    "id": "tO-Su9mRDkj_",
    "outputId": "e3ca25e0-8510-4c75-c6b6-22ec87757a54"
   },
   "outputs": [],
   "source": [
    "predictions = model.predict(X_test) \n",
    "predictions = scaler_y.inverse_transform(np.array(predictions).reshape((len(predictions), 1)))\n",
    "print('Predictions:')\n",
    "predictions[0:10]"
   ]
  },
  {
   "cell_type": "code",
   "execution_count": null,
   "metadata": {
    "colab": {
     "base_uri": "https://localhost:8080/"
    },
    "id": "uPuIYcFzDkkC",
    "outputId": "81876ad4-1fbb-40ab-bd18-95172d810b34"
   },
   "outputs": [],
   "source": [
    "train_loss = model.evaluate(X_train, y_train, batch_size = 1)\n",
    "test_loss = model.evaluate(X_test, y_test, batch_size = 1)\n",
    "print('Train Loss =', round(train_loss,4))\n",
    "print('Test Loss =', round(test_loss,4))"
   ]
  },
  {
   "cell_type": "markdown",
   "metadata": {},
   "source": [
    "### Checking the root mean square error"
   ]
  },
  {
   "cell_type": "code",
   "execution_count": null,
   "metadata": {
    "colab": {
     "base_uri": "https://localhost:8080/"
    },
    "id": "P2_PZKmpDkkC",
    "outputId": "846f6e5f-8f48-4f24-8681-3c8f7adb8cbb"
   },
   "outputs": [],
   "source": [
    "root_mean_square_error = np.sqrt(np.mean(np.power((y_test - predictions),2)))\n",
    "print('Root Mean Square Error =', round(root_mean_square_error,4))"
   ]
  },
  {
   "cell_type": "code",
   "execution_count": null,
   "metadata": {
    "colab": {
     "base_uri": "https://localhost:8080/"
    },
    "id": "_XMOxXSWDkkE",
    "outputId": "b14f5fa2-7451-46c3-f042-bcbdb9c1d1b5"
   },
   "outputs": [],
   "source": [
    "rmse = metrics.mean_squared_error(y_test, predictions)\n",
    "print('Root Mean Square Error (sklearn.metrics) =', round(np.sqrt(rmse),4))"
   ]
  },
  {
   "cell_type": "code",
   "execution_count": null,
   "metadata": {
    "id": "IEa3McaPDkkF"
   },
   "outputs": [],
   "source": [
    "X_test = scaler_x.inverse_transform(np.array(X_test).reshape((len(X_test), len(cols))))\n",
    "y_train = scaler_y.inverse_transform(np.array(y_train).reshape((len(y_train), 1)))\n",
    "y_test = scaler_y.inverse_transform(np.array(y_test).reshape((len(y_test), 1)))"
   ]
  },
  {
   "cell_type": "markdown",
   "metadata": {},
   "source": [
    "### Plotting the comparsion graph of Close price and Predicted price"
   ]
  },
  {
   "cell_type": "code",
   "execution_count": null,
   "metadata": {
    "colab": {
     "base_uri": "https://localhost:8080/",
     "height": 625
    },
    "id": "Is0WU72keeXK",
    "outputId": "fa55dd2f-f4a5-4c2e-8a67-ad2a2e728e9d"
   },
   "outputs": [],
   "source": [
    "plt.figure(figsize=(16,10))\n",
    "plt.plot(predictions, label=\"Predicted Close Price\")\n",
    "plt.plot([row[0] for row in y_test], label=\"Testing Close Price\")\n",
    "plt.legend(loc='upper center', bbox_to_anchor=(0.5, -0.05), fancybox=True, shadow=True, ncol=2)\n",
    "plt.show()"
   ]
  },
  {
   "cell_type": "code",
   "execution_count": null,
   "metadata": {
    "id": "lF7fkt-CehBm"
   },
   "outputs": [],
   "source": []
  }
 ],
 "metadata": {
  "colab": {
   "name": "Untitled.ipynb",
   "provenance": []
  },
  "kernelspec": {
   "display_name": "Python 3 (ipykernel)",
   "language": "python",
   "name": "python3"
  },
  "language_info": {
   "codemirror_mode": {
    "name": "ipython",
    "version": 3
   },
   "file_extension": ".py",
   "mimetype": "text/x-python",
   "name": "python",
   "nbconvert_exporter": "python",
   "pygments_lexer": "ipython3",
   "version": "3.11.5"
  }
 },
 "nbformat": 4,
 "nbformat_minor": 1
}
